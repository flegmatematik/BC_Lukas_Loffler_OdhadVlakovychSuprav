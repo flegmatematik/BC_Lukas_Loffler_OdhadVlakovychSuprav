{
 "cells": [
  {
   "cell_type": "code",
   "execution_count": null,
   "metadata": {},
   "outputs": [],
   "source": [
    "import tensorflow as tf\n",
    "from pandas.plotting._matplotlib import scatter_matrix\n",
    "from tensorflow import keras\n",
    "from tensorflow.keras import layers\n",
    "import numpy as np\n",
    "import matplotlib.pyplot as plt\n",
    "import pandas as pd\n",
    "import pyodbc\n",
    "import os"
   ]
  },
  {
   "cell_type": "code",
   "execution_count": null,
   "metadata": {},
   "outputs": [],
   "source": [
    "database = '[CZ-PREOS_GTN]'\n",
    "zastavky = ['Ostrava-Svinov', 'Polanka n. O.', 'Jistebník', 'Studénka', 'Suchdol nad Odr.', 'Polom',\n",
    "                'Hranice na Mor.', 'Drahotue', 'Lipník nad Beèv.', 'Prosenice', 'Pøerov os.n.']\n"
   ]
  },
  {
   "cell_type": "code",
   "execution_count": null,
   "metadata": {},
   "outputs": [],
   "source": [
    "def outlier_treatment(datacolumn):\n",
    "    sorted(datacolumn)\n",
    "    Q1, Q3 = np.percentile(datacolumn, [25, 75])\n",
    "    IQR = Q3 - Q1\n",
    "    lower_range = Q1 - (1.5 * IQR)\n",
    "    upper_range = Q3 + (1.5 * IQR)\n",
    "    return lower_range, upper_range\n",
    "\n",
    "\n",
    "def track_monitor(stops_list, df_p, title, directory):\n",
    "    cesty = {}\n",
    "    lastId = -1\n",
    "    for index, row in df_p.iterrows():\n",
    "        trainId = row['TrainId']\n",
    "        if (row['FromName'] in stops_list) & (row['ToName'] in stops_list):\n",
    "            if trainId == lastId:\n",
    "                cesty.setdefault(trainId, []).append(row['DelayDiffPercent'])\n",
    "            elif (row['SectIdx'] == 0) & (row['FromName'] == stops_list[0]):\n",
    "                cesty[row['TrainId']] = [0.0, row['DelayDiffPercent']]\n",
    "                lastId = trainId\n",
    "        else:\n",
    "            if trainId == lastId:\n",
    "                cesty.pop(lastId, None)\n",
    "\n",
    "    total = [0] * len(stops_list)\n",
    "\n",
    "    trainsCount = 0\n",
    "    for value in cesty.values():\n",
    "        if len(value) == 11:\n",
    "            plt.plot(zastavky, value)\n",
    "            total = np.add(value, total)\n",
    "            trainsCount += 1\n",
    "    plt.title(title)\n",
    "    plt.xticks(fontsize=7, rotation=15)\n",
    "    plt.savefig(directory + 'AllTrains')\n",
    "    plt.close()\n",
    "\n",
    "    dividers = [trainsCount] * len(stops_list)\n",
    "\n",
    "    means = np.divide(total, dividers)\n",
    "\n",
    "    plt.title(title)\n",
    "    plt.xticks(fontsize=7, rotation=15)\n",
    "    plt.plot(zastavky, means)\n",
    "    plt.savefig(directory + 'Mean')\n",
    "    plt.close()"
   ]
  },
  {
   "cell_type": "code",
   "execution_count": null,
   "metadata": {},
   "outputs": [],
   "source": [
    "pd.set_option('display.max_rows', None)\n",
    "pd.set_option('display.max_columns', None)\n",
    "pd.set_option('display.width', None)"
   ]
  },
  {
   "cell_type": "code",
   "execution_count": null,
   "metadata": {},
   "outputs": [],
   "source": [
    "cnxn = pyodbc.connect(\"Driver={SQL Server};\"\n",
    "                      \"Server=dokelu.kst.fri.uniza.sk;\"\n",
    "                      \"Database=TrainsDB20-01-23;\"\n",
    "                      \"uid=Lukas;pwd=lukas\")\n",
    "\n",
    "df = pd.read_sql_query(\n",
    "      'SELECT [TrainId]'\n",
    "      ',[FromName]'\n",
    "      ',[ToName]'\n",
    "      ',[TrainType]'\n",
    "      ',[Weight]'\n",
    "      ',[Length]'\n",
    "      ',[CarCount]'\n",
    "      ',[AxisCount]'\n",
    "      ',SUBSTRING([EngineType],1,4) as EngineType'\n",
    "      ',[ArrPlanTime]'\n",
    "      ',[DepPlanTime]'\n",
    "      ',[ArrRealTime]'\n",
    "      ',[DepRealTime]'\n",
    "      ',DATEDIFF(SECOND,\\'1970-01-01\\',[DepRealTime]) as DepRealTimeStamp'\n",
    "      ',DATEDIFF(SECOND,\\'1970-01-01\\',[ArrRealTime]) as ArrRealTimeStamp'\n",
    "      ',DATEDIFF(SECOND,\\'1970-01-01\\',[DepPlanTime]) as DepPlanTimeStamp'\n",
    "      ',DATEDIFF(SECOND,\\'1970-01-01\\',[ArrPlanTime]) as ArrPlanTimeStamp'\n",
    "      ',COALESCE(DATEDIFF(SECOND,\\'1970-01-01\\',[ArrPlanTime])-DATEDIFF(SECOND,\\'1970-01-01\\',[DepPlanTime]),0) as PlanDrivingTime'\n",
    "      ',COALESCE(DATEDIFF(SECOND,\\'1970-01-01\\',[DepRealTime])-DATEDIFF(SECOND,\\'1970-01-01\\',[DepPlanTime]),0) as DelayDeparture'\n",
    "      ',COALESCE(DATEDIFF(SECOND,\\'1970-01-01\\',[ArrRealTime])-DATEDIFF(SECOND,\\'1970-01-01\\',[ArrPlanTime]),0) as DelayArrive'\n",
    "      ',COALESCE([LengthSect],0) as LengthSect'\n",
    "      ',COALESCE([PredLength],0) as PredLength'\n",
    "      ',SectIdx'\n",
    "      ',CASE WHEN DATEPART(MONTH,DepPlanTime) in (3,4,5) then \\'Jar\\''\n",
    "\t        ' WHEN DATEPART(MONTH,DepPlanTime) in (6,7,8) then \\'Leto\\''\n",
    "\t\t\t' WHEN DATEPART(MONTH,DepPlanTime) in (9,10,11) then \\'Jesen\\''\n",
    " \t\t\t' WHEN DATEPART(MONTH,DepPlanTime) in (12,1,2) then \\'Zima\\''\n",
    "\t  ' END as Season'\n",
    "      ',CASE WHEN DATEPART(HOUR,DepRealTime) in (5,6,7,8,9,10) THEN \\'Rano\\''\n",
    "\t\t\t' WHEN DATEPART(HOUR,DepRealTime) in (11,12,13,14,15,16) THEN \\'Obed\\''\n",
    "\t\t\t' WHEN DATEPART(HOUR,DepRealTime) in (17,18,19,20,21,22) THEN \\'Vecer\\''\n",
    "\t\t\t' WHEN DATEPART(HOUR,DepRealTime) in (23,0,1,2,3,4) THEN \\'Noc\\''\n",
    "\t  ' END as DayTime'\n",
    "    ' FROM [TrainsDb20-01-23].[dbo].' + database +\n",
    "    ' where DepPlanTime IS NOT NULL'\n",
    "    ' and DepRealTime IS NOT NULL'\n",
    "    ' and ArrRealTime IS NOT NULL'\n",
    "    ' and ArrPlanTime IS NOT NULL'\n",
    "    ' and Weight > 0'\n",
    "    ' and Length > 0'\n",
    "    ' and CarCount > 0'\n",
    "    ' and AxisCount > 0'\n",
    "    ' and LengthSect > 0'\n",
    "    ' and FromName <> ToName'\n",
    "    ' and Traintype not in (\\'PMD\\', \\'Lv\\')'\n",
    "    ' order by TrainId,SectIdx ASC'\n",
    "    , cnxn)"
   ]
  },
  {
   "cell_type": "code",
   "execution_count": null,
   "metadata": {},
   "outputs": [],
   "source": [
    "df['PredDelay'] = 0\n",
    "df['PredLength'] = 0\n",
    "df['DelayDiff'] = 0\n",
    "df['DelayDiffPercent'] = 0.0\n",
    "df['NoStop'] = 1"
   ]
  },
  {
   "cell_type": "code",
   "execution_count": null,
   "metadata": {},
   "outputs": [],
   "source": [
    "df['PredDelayDiffPercent'] = 0.0"
   ]
  },
  {
   "cell_type": "code",
   "execution_count": null,
   "metadata": {},
   "outputs": [],
   "source": [
    "train_types = ['Ex', 'Mn', 'Nex', 'Os', 'Pn', 'R', 'Sluz', 'Sp', 'Sv', 'Vlec']\n",
    "stop_types = ['ZaciatokTrasy', 'PokracovanieTrasy']\n",
    "season_types = ['Jar', 'Leto', 'Jesen', 'Zima']\n",
    "daytime_types = ['Rano', 'Obed', 'Vecer', 'Noc']\n",
    "\n",
    "seasons_dataframes = {}\n",
    "stops_dataframes = {}\n",
    "train_type_dataframes = {}\n",
    "daytimes_dataframes = {}\n",
    "\n",
    "filters = {'TrainTypes': [train_types, train_type_dataframes, 'TrainType'],\n",
    "           'Seasons': [season_types, seasons_dataframes, 'Season'],\n",
    "           'DayTimes': [daytime_types, daytimes_dataframes, 'DayTime']}"
   ]
  },
  {
   "cell_type": "code",
   "execution_count": null,
   "metadata": {},
   "outputs": [],
   "source": [
    "df.loc[(((df['DepRealTimeStamp'] > 1477792800) & (df['DepRealTimeStamp'] < 1477807200))\n",
    "        # ------------------------2017-------------------------------------------------\n",
    "        | ((df['DepRealTimeStamp'] > 1509242400) & (df['DepRealTimeStamp'] < 1509256800))\n",
    "        # ------------------------2018-------------------------------------------------\n",
    "        | ((df['DepRealTimeStamp'] > 1540692000) & (df['DepRealTimeStamp'] < 1540706400))\n",
    "        # ------------------------2019-------------------------------------------------\n",
    "       | ((df['DepRealTimeStamp'] > 1572141600) & (df['DepRealTimeStamp'] < 1572156000)))\n",
    "       & (df['DelayDeparture'] < -1500)\n",
    "       & (df['DelayDeparture'] > -5000),\n",
    "       ['DelayDeparture', 'DepRealTimeStamp']] += 3600\n",
    "\n",
    "#  -------------------------------2016-------------------------------------------------\n",
    "df.loc[(((df['ArrRealTimeStamp'] > 1477792800) & (df['ArrRealTimeStamp'] < 1477807200))\n",
    "        # ------------------------2017-------------------------------------------------\n",
    "        | ((df['ArrRealTimeStamp'] > 1509242400) & (df['ArrRealTimeStamp'] < 1509256800))\n",
    "        # ------------------------2018-------------------------------------------------\n",
    "        | ((df['ArrRealTimeStamp'] > 1540692000) & (df['ArrRealTimeStamp'] < 1540706400))\n",
    "        # ------------------------2019-------------------------------------------------\n",
    "       | ((df['ArrRealTimeStamp'] > 1572141600) & (df['ArrRealTimeStamp'] < 1572156000)))\n",
    "       & (df['DelayArrive'] < -1500)\n",
    "       & (df['DelayArrive'] > -5000),\n",
    "       ['DelayArrive', 'ArrRealTimeStamp']] += 3600\n",
    "\n",
    "\n",
    "# zmena casu ----------------- NA LETNY-----------------------------------------------\n",
    "# -------------------------------2016-------------------------------------------------\n",
    "df.loc[(((df['DepRealTimeStamp'] > 1459044000) & (df['DepRealTimeStamp'] < 1459058400))\n",
    "        # ------------------------2017-------------------------------------------------\n",
    "        | ((df['DepRealTimeStamp'] > 1490493600) & (df['DepRealTimeStamp'] < 1490508000))\n",
    "        # ------------------------2018-------------------------------------------------\n",
    "        | ((df['DepRealTimeStamp'] > 1521943200) & (df['DepRealTimeStamp'] < 1521957600))\n",
    "        # ------------------------2019-------------------------------------------------\n",
    "       | ((df['DepRealTimeStamp'] > 1553997600) & (df['DepRealTimeStamp'] < 1554012000)))\n",
    "       & (df['DelayDeparture'] > 2200)\n",
    "       & (df['DelayDeparture'] < 5700),\n",
    "       ['DelayDeparture', 'DepRealTimeStamp']] -= 3600\n",
    "\n",
    "#  -------------------------------2016-------------------------------------------------\n",
    "df.loc[(((df['ArrRealTimeStamp'] > 1459044000) & (df['ArrRealTimeStamp'] < 1459058400))\n",
    "        # ------------------------2017-------------------------------------------------\n",
    "        | ((df['ArrRealTimeStamp'] > 1490493600) & (df['ArrRealTimeStamp'] < 1490508000))\n",
    "        # ------------------------2018-------------------------------------------------\n",
    "        | ((df['ArrRealTimeStamp'] > 1521943200) & (df['ArrRealTimeStamp'] < 1521957600))\n",
    "        # ------------------------2019-------------------------------------------------\n",
    "       | ((df['ArrRealTimeStamp'] > 1553997600) & (df['ArrRealTimeStamp'] < 1554012000)))\n",
    "       & (df['DelayArrive'] > 2200)\n",
    "       & (df['DelayArrive'] < 5700),\n",
    "       ['DelayArrive', 'ArrRealTimeStamp']] -= 3600"
   ]
  },
  {
   "cell_type": "code",
   "execution_count": null,
   "metadata": {},
   "outputs": [],
   "source": [
    "df['RealDrivingTime'] = (df['ArrRealTimeStamp'] - df['DepRealTimeStamp'])\n",
    "df = df[(df['PlanDrivingTime'] < 7200) | (df['RealDrivingTime'] < 7200)]"
   ]
  },
  {
   "cell_type": "code",
   "execution_count": null,
   "metadata": {},
   "outputs": [],
   "source": [
    "df = df[(df['PlanDrivingTime'] > 60)]\n",
    "df = df[(df['RealDrivingTime'] > 60)]"
   ]
  },
  {
   "cell_type": "code",
   "execution_count": null,
   "metadata": {},
   "outputs": [],
   "source": [
    "df['DelayDiff'] = (df['RealDrivingTime'] - df['PlanDrivingTime'])\n",
    "df['DelayDiffPercent'] = (df['DelayDiff'] / df['PlanDrivingTime'])"
   ]
  },
  {
   "cell_type": "code",
   "execution_count": null,
   "metadata": {},
   "outputs": [],
   "source": [
    "lastId = -1\n",
    "lastKm = 0\n",
    "predDelayDiffPercent = 0\n",
    "\n",
    "# vypocet hodnot pre dlzku predosleho useku a posledneho meskania\n",
    "for index in df.index:\n",
    "    # vymena stlpcov\n",
    "    vymena = []\n",
    "    vymena.insert(0, df.at[index, 'CarCount'])\n",
    "    vymena.insert(1, df.at[index, 'AxisCount'])\n",
    "    vymena.insert(2, df.at[index, 'Length'])\n",
    "    vymena.sort()\n",
    "    df.at[index, 'CarCount'] = vymena[0]\n",
    "    df.at[index, 'AxisCount'] = vymena[1]\n",
    "    df.at[index, 'Length'] = vymena[2]\n",
    "\n",
    "\n",
    "    if df.at[index, 'TrainId'] == lastId:\n",
    "        df.at[index, 'PredLength'] = lastKm\n",
    "        df.at[index, 'PredDelayDiffPercent'] = predDelayDiffPercent\n",
    "    else:\n",
    "        lastId = df.at[index, 'TrainId']\n",
    "\n",
    "    lastKm = df.at[index, 'LengthSect']\n",
    "    predDelayDiffPercent = df.at[index, 'DelayDiffPercent']\n",
    "\n",
    "print(df.shape)\n",
    "\n",
    "# df = df[(df['AxisCount'] / df['CarCount'] == 2) | (df['AxisCount'] / df['CarCount'] == 4)]"
   ]
  },
  {
   "cell_type": "code",
   "execution_count": null,
   "metadata": {},
   "outputs": [],
   "source": [
    "input_attributes = ['Weight', 'Length', 'CarCount', 'AxisCount', 'PlanDrivingTime', 'LengthSect', 'PredLength', 'PredDelay']\n",
    "data_attributes = ['Weight', 'Length', 'CarCount', 'AxisCount', 'PlanDrivingTime', 'LengthSect', 'PredLength', 'PredDelay', 'DelayDiffPercent']\n",
    "train_attributes =  ['Weight', 'Length', 'CarCount', 'AxisCount', 'PlanDrivingTime', 'LengthSect', 'PredLength', 'PredDelay', 'SectIdx', 'DelayArrive', 'DelayDeparture',\n",
    "                     'Ex', 'Mn', 'Nex', 'Os', 'Pn', 'R', 'Sluz', 'Sp', 'Sv', 'Vlec', 'Jar', 'Leto', 'Jesen', 'Zima', 'Rano', 'Obed', 'Vecer', 'Noc', 'DelayDiffPercent']\n",
    "\n",
    "exp = ['Weight', 'Length', 'CarCount', 'AxisCount', 'PlanDrivingTime', 'LengthSect', 'DelayDeparture', 'SectIdx', 'DelayArrive', 'DelayDeparture','PredDelayDiffPercent',\n",
    "                     'Ex', 'Mn', 'Nex', 'Os', 'Pn', 'R', 'Sluz', 'Sp', 'Sv', 'Vlec', 'Jar', 'Leto', 'Jesen', 'Zima', 'Rano', 'Obed', 'Vecer', 'Noc', 'DelayDiffPercent']\n",
    "\n",
    "\n",
    "try1_attributes = ['Weight', 'Length', 'CarCount', 'AxisCount', 'PlanDrivingTime','PredLength',\n",
    "                     'Ex', 'Os', 'Pn', 'R', 'DelayDiffPercent']"
   ]
  },
  {
   "cell_type": "code",
   "execution_count": null,
   "metadata": {},
   "outputs": [],
   "source": [
    "if not os.path.exists(database + '/AllData'):\n",
    "    os.makedirs(database + '/AllData')\n",
    "    os.makedirs(database + '/AllData/ScatterPlots')\n"
   ]
  },
  {
   "cell_type": "code",
   "execution_count": null,
   "metadata": {},
   "outputs": [],
   "source": [
    "dffcut= df[exp]\n",
    "cor = dffcut.corr()\n",
    "print(cor[\"DelayDiffPercent\"].sort_values(ascending=False))\n",
    "\n",
    "fig, ax = plt.subplots()\n",
    "ax.matshow(cor, cmap='seismic')\n",
    "\n",
    "for (i, j), z in np.ndenumerate(cor):\n",
    "    ax.text(j, i, '{:0.1f}'.format(z), ha='center', va='center',\n",
    "            bbox=dict(boxstyle='round', facecolor='white', edgecolor='0.3'))\n",
    "\n",
    "#plt.matshow(cor)\n",
    "\n",
    "# plt.show()\n",
    "plt.title('All Data')\n",
    "plt.savefig(database + '/AllData/correlation')\n",
    "plt.close()\n",
    "\n",
    "dffcut.describe()\n",
    "dffcut.hist(bins=50, figsize=(20, 15))\n",
    "plt.suptitle(\"All data\")\n",
    "# plt.show()\n",
    "plt.savefig(database + '/AllData/histogram')\n",
    "plt.close()"
   ]
  },
  {
   "cell_type": "code",
   "execution_count": null,
   "metadata": {},
   "outputs": [],
   "source": [
    "for attr in input_attributes:\n",
    "    dffcut.plot(kind='scatter', x=attr, y='DelayDiffPercent', alpha='0.3')\n",
    "    plt.title(\"All_data\")\n",
    "    # plt.show()\n",
    "    plt.savefig(database + '/AllData/ScatterPlots/' + attr)\n",
    "    plt.close()"
   ]
  },
  {
   "cell_type": "code",
   "execution_count": null,
   "metadata": {},
   "outputs": [],
   "source": [
    "type = df.pop('TrainType')\n",
    "for train_type in train_types:\n",
    "    df[train_type] = (type == train_type)*1.0\n",
    "\n",
    "season = df.pop('Season')\n",
    "for seas in season_types:\n",
    "    df[seas] = (season == seas)*1.0\n",
    "\n",
    "\n",
    "daytimes = df.pop('DayTime')\n",
    "for daytime in daytime_types:\n",
    "    df[daytime] = (daytimes == daytime)*1.0\n"
   ]
  },
  {
   "cell_type": "code",
   "execution_count": null,
   "metadata": {},
   "outputs": [],
   "source": [
    "dffcut = df[exp]\n",
    "\n",
    "train_dataset = dffcut.sample(frac=0.8, random_state=0)\n",
    "test_dataset = dffcut.drop(train_dataset.index)\n",
    "\n",
    "train_labels = train_dataset.pop('DelayDiffPercent')\n",
    "test_labels = test_dataset.pop('DelayDiffPercent')\n",
    "\n",
    "train_stats = train_dataset.describe()\n",
    "train_stats = train_stats.transpose()"
   ]
  },
  {
   "cell_type": "code",
   "execution_count": null,
   "metadata": {},
   "outputs": [],
   "source": [
    "def norm(x):\n",
    "    return (x-train_stats['mean']) / train_stats['std']"
   ]
  },
  {
   "cell_type": "code",
   "execution_count": null,
   "metadata": {},
   "outputs": [],
   "source": [
    "print(train_stats.describe())\n",
    "normed_train_data = norm(train_dataset)\n",
    "normed_test_data = norm(test_dataset)\n",
    "print(normed_train_data.describe())"
   ]
  },
  {
   "cell_type": "code",
   "execution_count": null,
   "metadata": {},
   "outputs": [],
   "source": [
    "def build_model():\n",
    "    model = keras.Sequential([\n",
    "        layers.Dense(64, activation=tf.nn.relu, input_shape=[len(train_dataset.keys())]),\n",
    "        layers.Dense(64, activation=tf.nn.relu),\n",
    "        layers.Dense(1)\n",
    "    ])\n",
    "\n",
    "    optimizer = tf.keras.optimizers.RMSprop(0.001)\n",
    "\n",
    "    model.compile(loss='mse',\n",
    "                  optimizer=optimizer,\n",
    "                  metrics=['mae','mse'])\n",
    "    return model"
   ]
  },
  {
   "cell_type": "code",
   "execution_count": null,
   "metadata": {},
   "outputs": [],
   "source": [
    "model = build_model()\n",
    "print(model.summary())"
   ]
  },
  {
   "cell_type": "code",
   "execution_count": null,
   "metadata": {},
   "outputs": [],
   "source": [
    "class PrintDot(keras.callbacks.Callback):\n",
    "    def on_epoch_end(self, epoch, logs):\n",
    "        if epoch % 100 == 0:\n",
    "            print('')\n",
    "        print('.', end='')"
   ]
  },
  {
   "cell_type": "code",
   "execution_count": null,
   "metadata": {},
   "outputs": [],
   "source": [
    "EPOCHS = 1000"
   ]
  },
  {
   "cell_type": "code",
   "execution_count": null,
   "metadata": {},
   "outputs": [],
   "source": [
    "def plot_history(history):\n",
    "    hist = pd.DataFrame(history.history)\n",
    "    hist['epoch'] = history.epoch\n",
    "\n",
    "    plt.figure()\n",
    "    plt.xlabel('Epoch')\n",
    "    plt.ylabel('Mean Abs Error [DelayDiffPercent]')\n",
    "    plt.plot(hist['epoch'], hist['mae'],\n",
    "             label='Train Error')\n",
    "    plt.plot(hist['epoch'], hist['val_mae'],\n",
    "             label='Val Error')\n",
    "    plt.legend\n",
    "    plt.ylim([0, 1])\n",
    "\n",
    "    plt.figure()\n",
    "    plt.xlabel('Epoch')\n",
    "    plt.ylabel('Mean Squared Error [$DelayDiffPercent^2$]')\n",
    "    plt.plot(hist['epoch'], hist['mse'],\n",
    "             label='Train Error')\n",
    "    plt.plot(hist['epoch'], hist['val_mse'],\n",
    "             label='Val Error')\n",
    "    plt.legend\n",
    "    plt.ylim([0, 1])\n"
   ]
  },
  {
   "cell_type": "code",
   "execution_count": null,
   "metadata": {},
   "outputs": [],
   "source": [
    "early_stop = keras.callbacks.EarlyStopping(monitor='val_loss', patience=10)"
   ]
  },
  {
   "cell_type": "code",
   "execution_count": null,
   "metadata": {
    "scrolled": true
   },
   "outputs": [],
   "source": [
    "historyFit = model.fit(normed_train_data, train_labels, epochs=EPOCHS,\n",
    "                    validation_split=0.2, verbose=0, callbacks=[early_stop, PrintDot()])\n"
   ]
  },
  {
   "cell_type": "code",
   "execution_count": null,
   "metadata": {},
   "outputs": [],
   "source": [
    "plot_history(historyFit)"
   ]
  },
  {
   "cell_type": "code",
   "execution_count": null,
   "metadata": {},
   "outputs": [],
   "source": [
    "import math \n",
    "loss, mae, mse = model.evaluate(normed_test_data, test_labels, verbose=0)\n",
    "\n",
    "print(\"Testing set Loss : {:5.2f} DelayDiffPercent\".format(loss))\n",
    "print(\"Testing set Mean Abs Error: {:5.2f} DelayDiffPercent\".format(mae))\n",
    "print(\"Testing set Mean Sqrt Error: {:5.2f} DelayDiffPercent\".format(mse))\n",
    "print(\"Testing set Root Mean Sqrt Error: {:5.2f} DelayDiffPercent\".format(math.sqrt(mse)))"
   ]
  },
  {
   "cell_type": "code",
   "execution_count": null,
   "metadata": {},
   "outputs": [],
   "source": [
    "test_predictions = model.predict(normed_test_data).flatten()\n",
    "\n",
    "plt.scatter(test_labels, test_predictions)\n",
    "plt.xlabel('True Values [DelayDiffPercent]')\n",
    "plt.ylabel('Predictions [DelayDiffPercent]')\n",
    "plt.axis('equal')\n",
    "plt.axis('square')\n",
    "plt.xlim([0,plt.xlim()[1]])\n",
    "plt.ylim([0,plt.ylim()[1]])\n",
    "_ = plt.plot([-100,100],[-100,100])"
   ]
  },
  {
   "cell_type": "code",
   "execution_count": null,
   "metadata": {},
   "outputs": [],
   "source": [
    "error = test_predictions - test_labels\n",
    "plt.hist(error, bins=1000)\n",
    "plt.xlabel('Prediction Error [DelayDiffPercent]')\n",
    "plt.xlim([-1,1])\n",
    "_ = plt.ylabel(\"Count\")"
   ]
  },
  {
   "cell_type": "code",
   "execution_count": null,
   "metadata": {},
   "outputs": [],
   "source": [
    "print(error.head())\n",
    "print(error.tail())"
   ]
  },
  {
   "cell_type": "code",
   "execution_count": null,
   "metadata": {},
   "outputs": [],
   "source": [
    "for stopCountType in stop_types:\n",
    "    if stopCountType == 'ZaciatokTrasy':\n",
    "        stopCount = df[(df['SectIdx'] == 0)]\n",
    "    else:\n",
    "        stopCount = df[(df['SectIdx'] != 0)]\n",
    "    print(stopCountType)\n",
    "    print(stopCount.describe())\n",
    "\n",
    "    if not os.path.exists(database + '/StopCount/' + stopCountType):\n",
    "        os.makedirs(database + '/StopCount/' + stopCountType)\n",
    "        os.makedirs(database + '/StopCount/' + stopCountType + '/ScatterPlots')\n",
    "        os.makedirs(database + '/StopCount/' + stopCountType + '/TrainRoute')\n",
    "\n",
    "    if len(stopCount.index) > 30:\n",
    "        cor = stopCount[data_attributes].corr()\n",
    "        print(cor)\n",
    "        print(cor[\"DelayDiffPercent\"].sort_values(ascending=False))\n",
    "\n",
    "        # korelacna matica s hodnotami\n",
    "        fig, ax = plt.subplots()\n",
    "        ax.matshow(cor, cmap='seismic')\n",
    "        for (i, j), z in np.ndenumerate(cor):\n",
    "            ax.text(j, i, '{:0.1f}'.format(z), ha='center', va='center',\n",
    "                    bbox=dict(boxstyle='round', facecolor='white', edgecolor='0.3'))\n",
    "        plt.title(stopCountType)\n",
    "        # plt.show()\n",
    "        plt.savefig(database + '/StopCount/' + stopCountType + '/correlation')\n",
    "        plt.close()\n",
    "\n",
    "        # histogram hodnot rocneho obdobia\n",
    "        stopCount[data_attributes].hist(bins=30, figsize=(20, 15))\n",
    "        plt.suptitle(stopCountType)\n",
    "        # plt.show()\n",
    "        plt.savefig(database + '/StopCount/' + stopCountType + '/histogram')\n",
    "        plt.close()\n",
    "\n",
    "        for attr in input_attributes:\n",
    "            # scatterPlot plyvu atributu na hladanu premennu\n",
    "            stopCount[data_attributes].plot(kind='scatter', x=attr, y='DelayDiffPercent', alpha='0.3')\n",
    "            plt.title(stopCountType)\n",
    "            # plt.show()\n",
    "            plt.savefig(database + '/StopCount/' + stopCountType + '/ScatterPlots/' + attr)\n",
    "            plt.close()\n",
    "\n",
    "        stops_dataframes[stopCountType] = stopCount\n",
    "        directory = database + '/StopCount/' + stopCountType + '/TrainRoute/'\n",
    "        track_monitor(zastavky, stopCount, stopCountType, directory)"
   ]
  },
  {
   "cell_type": "code",
   "execution_count": null,
   "metadata": {},
   "outputs": [],
   "source": [
    "for filter_type, filter in filters.items():\n",
    "    data_types = filter[0]\n",
    "    dataframe = filter[1]\n",
    "    column = filter[2]\n",
    "\n",
    "    for data_type in data_types:\n",
    "        type = df[(df[column] == data_type)]\n",
    "        print(data_type)\n",
    "        print(type.describe())\n",
    "\n",
    "        if not os.path.exists(database + '/' + filter_type + '/' + data_type):\n",
    "            os.makedirs(database + '/' + filter_type + '/' + data_type)\n",
    "            os.makedirs(database + '/' + filter_type + '/' + data_type + '/ScatterPlots')\n",
    "            os.makedirs(database + '/' + filter_type + '/' + data_type + '/TrainRoute')\n",
    "\n",
    "        if len(type.index) > 30:\n",
    "            cor = type[data_attributes].corr()\n",
    "            print(cor)\n",
    "            print(cor[\"DelayDiffPercent\"].sort_values(ascending=False))\n",
    "\n",
    "            # korelacna matica s hodnotami\n",
    "            fig, ax = plt.subplots()\n",
    "            ax.matshow(cor, cmap='seismic')\n",
    "            for (i, j), z in np.ndenumerate(cor):\n",
    "                ax.text(j, i, '{:0.1f}'.format(z), ha='center', va='center',\n",
    "                        bbox=dict(boxstyle='round', facecolor='white', edgecolor='0.3'))\n",
    "            plt.title(data_type)\n",
    "            # plt.show()\n",
    "            plt.savefig(database + '/' + filter_type + '/' + data_type + '/correlation')\n",
    "            plt.close()\n",
    "\n",
    "            # histogram hodnot rocneho obdobia\n",
    "            type[data_attributes].hist(bins=30, figsize=(20, 15))\n",
    "            plt.suptitle(data_type)\n",
    "            # plt.show()\n",
    "            plt.savefig(database + '/' + filter_type + '/' + data_type + '/histogram')\n",
    "            plt.close()\n",
    "\n",
    "            for attr in input_attributes:\n",
    "                # scatterPlot plyvu atributu na hladanu premennu\n",
    "                type[data_attributes].plot(kind='scatter', x=attr, y='DelayDiffPercent', alpha='0.3')\n",
    "                plt.title(data_type)\n",
    "                # plt.show()\n",
    "                plt.savefig(database + '/' + filter_type + '/' + data_type + '/ScatterPlots/' + attr)\n",
    "                plt.close()\n",
    "\n",
    "            dataframe[data_type] = type\n",
    "            directory = database + '/' + filter_type + '/' + data_type + '/TrainRoute/'\n",
    "            track_monitor(zastavky, type, data_type, directory)"
   ]
  }
 ],
 "metadata": {
  "kernelspec": {
   "display_name": "Python 3",
   "language": "python",
   "name": "python3"
  },
  "language_info": {
   "codemirror_mode": {
    "name": "ipython",
    "version": 3
   },
   "file_extension": ".py",
   "mimetype": "text/x-python",
   "name": "python",
   "nbconvert_exporter": "python",
   "pygments_lexer": "ipython3",
   "version": "3.7.6"
  }
 },
 "nbformat": 4,
 "nbformat_minor": 4
}
